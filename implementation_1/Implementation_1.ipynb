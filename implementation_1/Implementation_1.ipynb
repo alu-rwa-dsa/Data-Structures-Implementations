{
 "cells": [
  {
   "cell_type": "code",
   "execution_count": 1,
   "metadata": {},
   "outputs": [],
   "source": [
    "# import the needed libraries to track the time and space complexity of an algrithm \n",
    "import matplotlib.pyplot as plt\n",
    "%matplotlib inline\n",
    "from time import perf_counter\n",
    "import random\n",
    "from guppy import hpy"
   ]
  },
  {
   "cell_type": "markdown",
   "metadata": {},
   "source": [
    "<h2>Task 1:</h2>\n",
    "\n",
    "- get the time and space complexity of the binary search algorithm "
   ]
  },
  {
   "cell_type": "code",
   "execution_count": 2,
   "metadata": {},
   "outputs": [],
   "source": [
    "# binary search takes in an array (arr) and a value (k) and returns true if k is in arr, and false otherwise \n",
    "def binary_search(arr, k):\n",
    "    \"\"\"\n",
    "    Cut the array into halves and look for k\n",
    "    \"\"\"\n",
    "    # pointer0 refers to the index of the first element in the list\n",
    "    pointer0 = 0\n",
    "    # pointer1 refers to the index of the last element of the list\n",
    "    pointer1 = len(arr) - 1\n",
    "    while pointer0 <= pointer1:\n",
    "        # mid points to track the middle element of the list\n",
    "        mid = pointer0 + (pointer1 - pointer0) // 2\n",
    "        if arr[mid] == k:\n",
    "            return True\n",
    "        # if k is greater than the mid number, we move pointer0 to the mid point\n",
    "        elif arr[mid] < k:\n",
    "            pointer0 = mid + 1\n",
    "        # if k is less than the mid number, we move pointer1 to the mid point\n",
    "        else:\n",
    "            pointer1 = mid - 1\n",
    "    return False"
   ]
  },
  {
   "cell_type": "code",
   "execution_count": 4,
   "metadata": {},
   "outputs": [
    {
     "name": "stdout",
     "output_type": "stream",
     "text": [
      "Time it took to run the alg = 1.0609999999999786e-07 ms\n"
     ]
    }
   ],
   "source": [
    "# Calculating the time needed to excute binary_search fun\n",
    "\n",
    "# create a list with a range of 10000 elements\n",
    "l = list(range(10000))\n",
    "\n",
    "# start time point\n",
    "start = perf_counter()\n",
    "\n",
    "# calling the binary search function and giving it a list of all numbers between 0: 10000\n",
    "binary_search(l, 0)\n",
    "\n",
    "# end time point\n",
    "end = perf_counter()\n",
    "\n",
    "# getting the execution time\n",
    "tot_time = (end - start) / 1000\n",
    "print(\"Time it took to run the alg = {} ms\".format(tot_time))"
   ]
  },
  {
   "cell_type": "code",
   "execution_count": 7,
   "metadata": {},
   "outputs": [
    {
     "name": "stdout",
     "output_type": "stream",
     "text": [
      "Total space used = 2329 bytes\n"
     ]
    }
   ],
   "source": [
    "# Calculating the space needed to excute binary_search fun\n",
    "\n",
    "# creating an object of guppy class\n",
    "mem = hpy()\n",
    "\n",
    "# start counting the space used\n",
    "mem.setrelheap()\n",
    "\n",
    "# calling the binarry search function to find 0 in l\n",
    "binary_search(l, 0)\n",
    "\n",
    "# end of counting space used  \n",
    "mem = mem.heap()\n",
    "\n",
    "# change the space used output message to be a string type\n",
    "mem = repr(mem)\n",
    "\n",
    "# split the mem string to a list\n",
    "mem = mem.split()\n",
    "\n",
    "# extracting the total memory used string from the mem list\n",
    "print(\"Total space used = {} bytes\".format(mem[10]))"
   ]
  },
  {
   "cell_type": "markdown",
   "metadata": {},
   "source": [
    "<h2>task2:</h2> \n",
    "\n",
    "- Inplement those following:\n",
    "    - Find the maximum value in a list \n",
    "    - Make each letter in a string lowercase\n",
    "    - Sort a list of integers (using the inbuilt python method)\n",
    "- For each of the above algorithms, plot graphs showing how the time and space taken as the input size changes from length 1 to length 100. (Lengths of lists and lengths of strings). You don’t need all values - just a few is enough.\n",
    "- Estimate how long each algorithm would take for for inputs of size 1,000,000. Write your estimate clearly in the code.\n"
   ]
  },
  {
   "cell_type": "code",
   "execution_count": 8,
   "metadata": {},
   "outputs": [],
   "source": [
    "# sort_arr sorts an array in ascending Order\n",
    "def sort_arr(arr):\n",
    "    return sorted(arr)"
   ]
  },
  {
   "cell_type": "code",
   "execution_count": 9,
   "metadata": {},
   "outputs": [],
   "source": [
    "# max_arr gets the max value from an array of integers\n",
    "def max_arr(arr):\n",
    "    return max(arr)"
   ]
  },
  {
   "cell_type": "code",
   "execution_count": 10,
   "metadata": {},
   "outputs": [],
   "source": [
    "# lower_case transforms a string letters to lower case\n",
    "def lower_case(word):\n",
    "    return word.lower()"
   ]
  },
  {
   "cell_type": "code",
   "execution_count": 11,
   "metadata": {},
   "outputs": [],
   "source": [
    "def plotTime(f, minArg, maxArg):\n",
    "    \"\"\"\n",
    "    Run timer and plot time complexity\n",
    "    \"\"\"\n",
    "    len_input = []\n",
    "    t = []\n",
    "    space = []\n",
    "    for i in range(minArg, maxArg):\n",
    "        if f == lower_case:\n",
    "            # string of capital As of length i\n",
    "            l_input = \"A\" * i\n",
    "        else:\n",
    "            # randomize an array of length i with values from 0 to 100\n",
    "            l_input = random.sample(range(100), i)\n",
    "        # time start point\n",
    "        start = perf_counter()\n",
    "        # calling the function\n",
    "        f(l_input)\n",
    "        # time end point\n",
    "        end = perf_counter()\n",
    "        # appending the len of the input and time it took to run\n",
    "        len_input.append(i)\n",
    "        t.append((end - start) / 1000)\n",
    "    return len_input, t"
   ]
  },
  {
   "cell_type": "code",
   "execution_count": 12,
   "metadata": {},
   "outputs": [],
   "source": [
    "def size_million(f):\n",
    "    \"\"\"\n",
    "    estimating the time needed to excute f giving input of 1,000,000 elements\n",
    "    \"\"\"\n",
    "    # check if the function given is lower case which accepts strings only  \n",
    "    if f == lower_case:\n",
    "        # populate l_input with a string of length 1000000\n",
    "        l_input = \"A\" * 1000000\n",
    "    else:\n",
    "        # poulate l_input with a list of 1000000 elements\n",
    "        l_input = random.sample(range(1000000), 1000000)\n",
    "    start = perf_counter()\n",
    "    f(l_input)\n",
    "    end = perf_counter()\n",
    "    return end - start"
   ]
  },
  {
   "cell_type": "code",
   "execution_count": 13,
   "metadata": {
    "scrolled": true
   },
   "outputs": [
    {
     "name": "stdout",
     "output_type": "stream",
     "text": [
      "Analyzing Algorithms...\n"
     ]
    },
    {
     "data": {
      "image/png": "[encoded data removed]",
      "text/plain": [
       "<Figure size 432x288 with 1 Axes>"
      ]
     },
     "metadata": {
      "needs_background": "light"
     },
     "output_type": "display_data"
    },
    {
     "data": {
      "image/png": "[encoded data removed]",
      "text/plain": [
       "<Figure size 432x288 with 1 Axes>"
      ]
     },
     "metadata": {
      "needs_background": "light"
     },
     "output_type": "display_data"
    },
    {
     "data": {
      "image/png": "[encoded data removed]",
      "text/plain": [
       "<Figure size 432x288 with 1 Axes>"
      ]
     },
     "metadata": {
      "needs_background": "light"
     },
     "output_type": "display_data"
    },
    {
     "name": "stdout",
     "output_type": "stream",
     "text": [
      "---------------------------------------------------------------------------\n",
      "Time to sort an array of length million= 0.7137358000000091 sec\n",
      "Time to find max number of an array of length million= 0.10093750000000057 sec\n",
      "Time to lower a string length million= 0.0014994999999942138 sec\n"
     ]
    }
   ],
   "source": [
    "# Calc and plot time complexity of the sort, lower, max python functions\n",
    "def main():\n",
    "    print('Analyzing Algorithms...')\n",
    "    # calling the plotTime function and give it a function name, min, max values\n",
    "    len_input, t = plotTime(sort_arr, 1, 100)\n",
    "    # plot the output\n",
    "    plt.plot(len_input, t, 'o')\n",
    "    # title of the plot\n",
    "    plt.title(\"Time Complexity of sort fun\")\n",
    "    # naming x axis\n",
    "    plt.xlabel(\"List length\")\n",
    "    # naming y axis\n",
    "    plt.ylabel(\"Time in (ms)\")\n",
    "    plt.show()\n",
    "\n",
    "    len_input, t = plotTime(max_arr, 1, 100)\n",
    "    plt.plot(len_input, t, 'o')\n",
    "    plt.title(\"Time Complexity of max fun\")\n",
    "    plt.xlabel(\"List length\")\n",
    "    plt.ylabel(\"Time in (ms)\")\n",
    "    plt.show()\n",
    "\n",
    "    len_input, t = plotTime(lower_case, 1, 100)\n",
    "    plt.plot(len_input, t, 'o')\n",
    "    plt.title(\"Time Complexity of Lower_case fun\")\n",
    "    plt.xlabel(\"List length\")\n",
    "    plt.ylabel(\"Time in (ms)\")\n",
    "    plt.show()\n",
    "\n",
    "    # task 3; estimating the time it will take to execute input of length million\n",
    "    print(\"---------------------------------------------------------------------------\")\n",
    "    print(\"Time to sort an array of length million= {} sec\".format(size_million(sort_arr)))\n",
    "    print(\"Time to find max number of an array of length million= {} sec\".format(size_million(max_arr)))\n",
    "    print(\"Time to lower a string length million= {} sec\".format(size_million(lower_case)))\n",
    "\n",
    "\n",
    "if __name__ == '__main__':\n",
    "    main()"
   ]
  },
  {
   "cell_type": "code",
   "execution_count": null,
   "metadata": {},
   "outputs": [],
   "source": []
  },
  {
   "cell_type": "code",
   "execution_count": 14,
   "metadata": {},
   "outputs": [
    {
     "name": "stdout",
     "output_type": "stream",
     "text": [
      "Analyzing Algorithms...\n"
     ]
    },
    {
     "data": {
      "image/png": "[encoded data removed]",
      "text/plain": [
       "<Figure size 432x288 with 1 Axes>"
      ]
     },
     "metadata": {
      "needs_background": "light"
     },
     "output_type": "display_data"
    }
   ],
   "source": [
    "# Calc and plot space complexity of the sort python functions when the input grows from 1 to 20\n",
    "def spaceOfSort():\n",
    "    print('Analyzing Algorithms...')\n",
    "    # input_ind is a list that tracks the index, space tracks the spaces used by the sort function\n",
    "    input_ind = []\n",
    "    space = []\n",
    "    for i in range(1, 20):\n",
    "        l_input = random.sample(range(100), i)\n",
    "        h = hpy()\n",
    "        sort_arr(l_input)\n",
    "        h = h.heap()\n",
    "        h = repr(h)\n",
    "        h = h.split()\n",
    "        input_ind.append(i)\n",
    "        space.append(h[10])\n",
    "        \n",
    "    # plot the output\n",
    "    plt.plot(input_ind, space, 'o')\n",
    "    # title of the plot\n",
    "    plt.title(\"Space Complexity of sort fun\")\n",
    "    # naming x axis\n",
    "    plt.xlabel(\"List length\")\n",
    "    # naming y axis\n",
    "    plt.ylabel(\"Space in bytes\")\n",
    "    plt.show()\n",
    "\n",
    "# calling spaceOfSort\n",
    "spaceOfSort()"
   ]
  },
  {
   "cell_type": "code",
   "execution_count": null,
   "metadata": {
    "scrolled": true
   },
   "outputs": [],
   "source": []
  }
 ],
 "metadata": {
  "kernelspec": {
   "display_name": "Python 3",
   "language": "python",
   "name": "python3"
  },
  "language_info": {
   "codemirror_mode": {
    "name": "ipython",
    "version": 3
   },
   "file_extension": ".py",
   "mimetype": "text/x-python",
   "name": "python",
   "nbconvert_exporter": "python",
   "pygments_lexer": "ipython3",
   "version": "3.7.4"
  }
 },
 "nbformat": 4,
 "nbformat_minor": 2
}
